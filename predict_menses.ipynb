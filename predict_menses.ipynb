{
  "nbformat": 4,
  "nbformat_minor": 0,
  "metadata": {
    "colab": {
      "provenance": [],
      "authorship_tag": "ABX9TyM3c1iSycjd0Meh7Tp2IWDR",
      "include_colab_link": true
    },
    "kernelspec": {
      "name": "python3",
      "display_name": "Python 3"
    },
    "language_info": {
      "name": "python"
    }
  },
  "cells": [
    {
      "cell_type": "markdown",
      "metadata": {
        "id": "view-in-github",
        "colab_type": "text"
      },
      "source": [
        "<a href=\"https://colab.research.google.com/github/shuttle0615/back-end/blob/main/predict_menses.ipynb\" target=\"_parent\"><img src=\"https://colab.research.google.com/assets/colab-badge.svg\" alt=\"Open In Colab\"/></a>"
      ]
    },
    {
      "cell_type": "code",
      "source": [
        "#생리주기를 하나만 입력받는 버전\n",
        "from datetime import datetime, timedelta\n",
        "\n",
        "# 사용자로부터 시작일을 입력받음\n",
        "start = input('생리 시작일을 입력해주세요 (YYYY-MM-DD 형식): ')\n",
        "end = input('생리 종료일을 입력해주세요 (YYYY-MM-DD 형식): ')\n",
        "period = int(input('생리 기간을 입력해주세요 (-1을 입력하면 28일로 계산됩니다.): '))\n",
        "\n",
        "# 입력받은 시작일과 종료일을 날짜로 변환\n",
        "start_date = datetime.strptime(start, '%Y-%m-%d')\n",
        "end_date = datetime.strptime(end, '%Y-%m-%d')\n",
        "\n",
        "# 예상 배란일 계산 (14일 후)\n",
        "ovu_day = start_date + timedelta(days=14)\n",
        "\n",
        "# 만약 달이 넘어간 경우 해당 월의 일수로 다시 계산\n",
        "if ovu_day.month != start_date.month:\n",
        "    last_day_of_month = datetime(ovu_day.year, ovu_day.month + 1, 1) - timedelta(days=1)\n",
        "    ovu_day = last_day_of_month if last_day_of_month.day < 14 else datetime(ovu_day.year, ovu_day.month, 14)\n",
        "\n",
        "# 예상 배란일 앞뒤 2일 계산\n",
        "ovu_day_minus_2 = ovu_day - timedelta(days=2)\n",
        "ovu_day_plus_2 = ovu_day + timedelta(days=2)\n",
        "\n",
        "# 만약 기간이 -1로 입력된 경우 28일로 계산\n",
        "if period == -1:\n",
        "    period = 28\n",
        "\n",
        "# 다음 생리 시작일 계산\n",
        "next_day = end_date + timedelta(days=period)\n",
        "\n",
        "# 만약 달이 넘어간 경우 해당 월의 일수로 다시 계산\n",
        "if next_day.month != end_date.month:\n",
        "    last_day_of_month = datetime(next_day.year, next_day.month + 1, 1) - timedelta(days=1)\n",
        "    next_day = last_day_of_month if last_day_of_month.day < period else datetime(next_day.year, next_day.month, period)\n",
        "\n",
        "# 결과 출력\n",
        "\n",
        "print('예상 배란일:', ovu_day.strftime('%Y-%m-%d'))\n",
        "print('가임기 시작일:', ovu_day_minus_2.strftime('%Y-%m-%d'))\n",
        "print('가임기 끝나는 날:', ovu_day_plus_2.strftime('%Y-%m-%d'))\n",
        "print('다음 생리 시작일:', next_day.strftime('%Y-%m-%d'))"
      ],
      "metadata": {
        "colab": {
          "base_uri": "https://localhost:8080/"
        },
        "id": "KhRwk7WlNINB",
        "outputId": "92070d6b-8682-40eb-b0c6-776c63bc2a7d"
      },
      "execution_count": null,
      "outputs": [
        {
          "output_type": "stream",
          "name": "stdout",
          "text": [
            "생리 시작일을 입력해주세요 (YYYY-MM-DD 형식): 2023-12-21\n",
            "생리 종료일을 입력해주세요 (YYYY-MM-DD 형식): 2023-12-28\n",
            "생리 기간을 입력해주세요 (-1을 입력하면 28일로 계산됩니다.): -1\n",
            "예상 배란일: 2024-01-14\n",
            "가임기 시작일: 2024-01-12\n",
            "가임기 끝나는 날: 2024-01-16\n",
            "다음 생리 시작일: 2024-01-28\n"
          ]
        }
      ]
    },
    {
      "cell_type": "code",
      "source": [
        "#생리주기 최대 6개까지 계산 가능\n",
        "from datetime import datetime, timedelta\n",
        "\n",
        "# 사용자로부터 시작일을 입력받음\n",
        "start = input('생리 시작일을 입력해주세요 (YYYY-MM-DD 형식): ')\n",
        "\n",
        "# 입력받은 시작일을 날짜로 변환\n",
        "start_date = datetime.strptime(start, '%Y-%m-%d')\n",
        "\n",
        "# period 리스트 초기화\n",
        "period = []\n",
        "\n",
        "# 최대 6개의 생리 기간을 입력받음\n",
        "for i in range(6):\n",
        "    period_str = input(f'생리 기간 {i+1}을 입력해주세요 (-1을 입력하면 종료): ')\n",
        "    if period_str == '-1':\n",
        "        break\n",
        "    period.append(int(period_str))\n",
        "\n",
        "# period 리스트에 저장된 기간들의 평균 계산\n",
        "total_days = sum(period)\n",
        "average_days = total_days / len(period)\n",
        "\n",
        "# 예상 배란일 계산 (14일 후)\n",
        "ovu_day = start_date + timedelta(days=14)\n",
        "\n",
        "# 만약 달이 넘어간 경우 해당 월의 일수로 다시 계산\n",
        "if ovu_day.month != start_date.month:\n",
        "    last_day_of_month = datetime(ovu_day.year, ovu_day.month + 1, 1) - timedelta(days=1)\n",
        "    ovu_day = last_day_of_month if last_day_of_month.day < 14 else datetime(ovu_day.year, ovu_day.month, 14)\n",
        "\n",
        "# 예상 배란일 앞뒤 2일 계산\n",
        "ovu_day_minus_2 = ovu_day - timedelta(days=2)\n",
        "ovu_day_plus_2 = ovu_day + timedelta(days=2)\n",
        "\n",
        "# 다음 생리 시작일 계산 (end_date + period)\n",
        "end_date = start_date + timedelta(days=int(total_days)) # end_date 계산\n",
        "next_day = end_date + timedelta(days=period[-1]) # 다음 생리 시작일 계산\n",
        "\n",
        "# 결과 출력\n",
        "print('입력한 생리 기간:', period)\n",
        "print('평균 생리 기간 (버림):', int(average_days))\n",
        "print('예상 배란일:', ovu_day.strftime('%Y-%m-%d'))\n",
        "print('가임기 시작일:', ovu_day_minus_2.strftime('%Y-%m-%d'))\n",
        "print('가임기 끝나는 날:', ovu_day_plus_2.strftime('%Y-%m-%d'))\n",
        "print('다음 생리 시작일:', next_day.strftime('%Y-%m-%d'))\n",
        "\n",
        "#성 관련 보고서\n",
        "print('\\n')\n",
        "print(\"이번주 성 관련 보고서입니다.\")\n",
        "print(\"현재 생리 2일차입니다. 복통이 예상됩니다.\")\n",
        "print(\"입력하신 **질병에 관한 정보는 ~입니다\")\n",
        "print(\"~~음식을 추천합니다\")\n",
        "print(\"예상되는 pms는 ~~입니다\")"
      ],
      "metadata": {
        "colab": {
          "base_uri": "https://localhost:8080/"
        },
        "id": "jvuRMAvYztBW",
        "outputId": "3253e2fb-7fd0-4fa8-d278-6ccc2cb78188"
      },
      "execution_count": null,
      "outputs": [
        {
          "output_type": "stream",
          "name": "stdout",
          "text": [
            "생리 시작일을 입력해주세요 (YYYY-MM-DD 형식): 2023-12-25\n",
            "생리 기간 1을 입력해주세요 (-1을 입력하면 종료): 20\n",
            "생리 기간 2을 입력해주세요 (-1을 입력하면 종료): 19\n",
            "생리 기간 3을 입력해주세요 (-1을 입력하면 종료): 18\n",
            "생리 기간 4을 입력해주세요 (-1을 입력하면 종료): 49\n",
            "생리 기간 5을 입력해주세요 (-1을 입력하면 종료): 21\n",
            "생리 기간 6을 입력해주세요 (-1을 입력하면 종료): 21\n",
            "입력한 생리 기간: [20, 19, 18, 49, 21, 21]\n",
            "평균 생리 기간 (버림): 24\n",
            "예상 배란일: 2024-01-14\n",
            "가임기 시작일: 2024-01-12\n",
            "가임기 끝나는 날: 2024-01-16\n",
            "다음 생리 시작일: 2024-06-11\n"
          ]
        }
      ]
    }
  ]
}